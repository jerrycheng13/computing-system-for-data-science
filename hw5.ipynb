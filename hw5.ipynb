{
 "cells": [
  {
   "cell_type": "code",
   "execution_count": 1,
   "metadata": {},
   "outputs": [
    {
     "data": {
      "text/plain": [
       "<pyspark.context.SparkContext at 0xb2052c8c>"
      ]
     },
     "execution_count": 1,
     "metadata": {},
     "output_type": "execute_result"
    }
   ],
   "source": [
    "sc"
   ]
  },
  {
   "cell_type": "markdown",
   "metadata": {},
   "source": [
    "# Loading Data in RDD"
   ]
  },
  {
   "cell_type": "code",
   "execution_count": 70,
   "metadata": {},
   "outputs": [
    {
     "data": {
      "text/plain": [
       "input/file1 MapPartitionsRDD[44] at textFile at NativeMethodAccessorImpl.java:-2"
      ]
     },
     "execution_count": 70,
     "metadata": {},
     "output_type": "execute_result"
    }
   ],
   "source": [
    "lines = sc.textFile(\"input/file1\")\n",
    "lines"
   ]
  },
  {
   "cell_type": "code",
   "execution_count": 71,
   "metadata": {},
   "outputs": [
    {
     "data": {
      "text/plain": [
       "[u'Hello World Bye World']"
      ]
     },
     "execution_count": 71,
     "metadata": {},
     "output_type": "execute_result"
    }
   ],
   "source": [
    "lines.collect()"
   ]
  },
  {
   "cell_type": "markdown",
   "metadata": {},
   "source": [
    "# Total Word Count"
   ]
  },
  {
   "cell_type": "code",
   "execution_count": 72,
   "metadata": {
    "collapsed": true
   },
   "outputs": [],
   "source": [
    "words = lines.flatMap(lambda l:l.split(\" \"))"
   ]
  },
  {
   "cell_type": "code",
   "execution_count": 5,
   "metadata": {},
   "outputs": [
    {
     "data": {
      "text/plain": [
       "4"
      ]
     },
     "execution_count": 5,
     "metadata": {},
     "output_type": "execute_result"
    }
   ],
   "source": [
    "words.count()"
   ]
  },
  {
   "cell_type": "markdown",
   "metadata": {},
   "source": [
    "# Problem 1"
   ]
  },
  {
   "cell_type": "code",
   "execution_count": 115,
   "metadata": {},
   "outputs": [
    {
     "data": {
      "text/plain": [
       "org.apache.spark.api.java.JavaPairRDD@93ee2"
      ]
     },
     "execution_count": 115,
     "metadata": {},
     "output_type": "execute_result"
    }
   ],
   "source": [
    "lines = sc.wholeTextFiles(\"input\")\n",
    "lines"
   ]
  },
  {
   "cell_type": "code",
   "execution_count": 116,
   "metadata": {},
   "outputs": [
    {
     "data": {
      "text/plain": [
       "[(u'file:/home/vagrant/csds-material/input/file2',\n",
       "  u'Hello Hadoop Goodbye Hadoop\\n'),\n",
       " (u'file:/home/vagrant/csds-material/input/file1', u'Hello World Bye World\\n')]"
      ]
     },
     "execution_count": 116,
     "metadata": {},
     "output_type": "execute_result"
    }
   ],
   "source": [
    "lines.collect()"
   ]
  },
  {
   "cell_type": "code",
   "execution_count": 117,
   "metadata": {},
   "outputs": [],
   "source": [
    "line = []\n",
    "for i in range(0, lines.count()):\n",
    "    line.append(str(lines.collect()[i][1].strip(\"\\n\")))\n",
    "line = sc.parallelize(line)"
   ]
  },
  {
   "cell_type": "code",
   "execution_count": 118,
   "metadata": {},
   "outputs": [
    {
     "data": {
      "text/plain": [
       "defaultdict(<type 'int'>, {'World': 2, 'Bye': 1, 'Hello': 2, 'Goodbye': 1, 'Hadoop': 2})"
      ]
     },
     "execution_count": 118,
     "metadata": {},
     "output_type": "execute_result"
    }
   ],
   "source": [
    "words = line.flatMap(lambda l:l.split(\" \"))\n",
    "result = words.countByValue()\n",
    "result"
   ]
  },
  {
   "cell_type": "markdown",
   "metadata": {},
   "source": [
    "## Words Count"
   ]
  },
  {
   "cell_type": "code",
   "execution_count": 119,
   "metadata": {},
   "outputs": [
    {
     "name": "stdout",
     "output_type": "stream",
     "text": [
      "World : 2\n",
      "Bye : 1\n",
      "Hello : 2\n",
      "Goodbye : 1\n",
      "Hadoop : 2\n"
     ]
    }
   ],
   "source": [
    "for key in result.keys():\n",
    "    print key,\":\", result[key]"
   ]
  },
  {
   "cell_type": "markdown",
   "metadata": {},
   "source": [
    "# Problem 2"
   ]
  },
  {
   "cell_type": "code",
   "execution_count": 177,
   "metadata": {
    "collapsed": true
   },
   "outputs": [],
   "source": [
    "from pyspark.sql import SQLContext\n",
    "from pyspark.sql.types import *"
   ]
  },
  {
   "cell_type": "code",
   "execution_count": 178,
   "metadata": {
    "collapsed": true
   },
   "outputs": [],
   "source": [
    "sqlContext = SQLContext(sc)"
   ]
  },
  {
   "cell_type": "code",
   "execution_count": 179,
   "metadata": {
    "collapsed": true
   },
   "outputs": [],
   "source": [
    "lines = sc.textFile(\"hive/purchases.txt\")\n",
    "parts = lines.map(lambda l: l.split(\",\"))\n",
    "purchases = parts.map(lambda p: (p[0], p[1], p[2], float(p[3]), p[4]))"
   ]
  },
  {
   "cell_type": "code",
   "execution_count": 180,
   "metadata": {},
   "outputs": [],
   "source": [
    "fields = [StructField(\"timestamp\", StringType(), True),\n",
    "          StructField(\"location\", StringType(), True),\n",
    "          StructField(\"category\", StringType(), True),\n",
    "          StructField(\"price\", FloatType(), True),\n",
    "          StructField(\"card\", StringType(), True),]\n",
    "schema = StructType(fields)"
   ]
  },
  {
   "cell_type": "code",
   "execution_count": 184,
   "metadata": {},
   "outputs": [],
   "source": [
    "purchases = sqlContext.createDataFrame(purchases, schema)\n",
    "purchases.registerTempTable(\"purchases\")"
   ]
  },
  {
   "cell_type": "code",
   "execution_count": 233,
   "metadata": {},
   "outputs": [
    {
     "name": "stdout",
     "output_type": "stream",
     "text": [
      "timestamp           location       category             price  card      \n",
      "2012-07-20 09:59:00 Corpus Christi CDs                  327.91 Cash      \n",
      "2012-03-11 17:29:00 Durham         Books                115.09 Discover  \n",
      "2012-07-31 11:43:00 Rochester      Toys                 332.07 MasterCard\n",
      "2012-06-18 14:47:00 Garland        Computers            31.99  Visa      \n",
      "2012-03-27 11:40:00 Tulsa          CDs                  452.18 Discover  \n",
      "2012-05-31 10:57:00 Pittsburgh     Garden               492.25 Amex      \n",
      "2012-08-22 14:35:00 Richmond       Consumer Electronics 346.0  Amex      \n",
      "2012-09-23 16:45:00 Scottsdale     CDs                  21.58  Cash      \n",
      "2012-10-17 11:29:00 Baton Rouge    Computers            226.26 Cash      \n",
      "2012-07-03 11:05:00 Virginia Beach Women's Clothing     23.47  Cash      \n",
      "2012-08-18 09:31:00 Norfolk        Men's Clothing       379.33 Cash      \n",
      "2012-01-20 14:07:00 Wichita        Video Games          392.43 Cash      \n",
      "2012-11-27 12:16:00 Saint Paul     Books                281.64 Discover  \n",
      "2012-03-15 09:40:00 St. Petersburg CDs                  9.86   Visa      \n",
      "2012-01-02 10:39:00 Minneapolis    Baby                 116.67 Amex      \n",
      "2012-09-30 09:13:00 El Paso        Health and Beauty    487.24 MasterCard\n",
      "2012-09-20 13:52:00 Los Angeles    Health and Beauty    139.15 Discover  \n",
      "2012-02-10 09:16:00 Toledo         Music                340.31 Amex      \n",
      "2012-08-11 17:34:00 Jacksonville   Pet Supplies         442.18 Amex      \n",
      "2012-08-17 11:35:00 Toledo         Baby                 360.29 MasterCard\n"
     ]
    }
   ],
   "source": [
    "purchases.show()"
   ]
  },
  {
   "cell_type": "markdown",
   "metadata": {},
   "source": [
    "## Answer Questions"
   ]
  },
  {
   "cell_type": "markdown",
   "metadata": {},
   "source": [
    "### What is the average price of the products that were purchased via Mastercard?"
   ]
  },
  {
   "cell_type": "code",
   "execution_count": 272,
   "metadata": {},
   "outputs": [
    {
     "name": "stdout",
     "output_type": "stream",
     "text": [
      "c0               \n",
      "275.0677317417774\n"
     ]
    }
   ],
   "source": [
    "sqlContext.sql(\"SELECT AVG(price) FROM purchases WHERE card='MasterCard'\").show()"
   ]
  },
  {
   "cell_type": "markdown",
   "metadata": {},
   "source": [
    " The average price of the products that were purchased via Mastercard is 275.0677317417774"
   ]
  },
  {
   "cell_type": "markdown",
   "metadata": {},
   "source": [
    "### Which date recorded the highest total sales?"
   ]
  },
  {
   "cell_type": "code",
   "execution_count": 265,
   "metadata": {},
   "outputs": [],
   "source": [
    "df = sqlContext.sql(\"SELECT SUBSTRING(timestamp, 1, 10) AS date, price FROM purchases\")\n",
    "df.registerTempTable(\"df\")"
   ]
  },
  {
   "cell_type": "code",
   "execution_count": 270,
   "metadata": {},
   "outputs": [
    {
     "name": "stdout",
     "output_type": "stream",
     "text": [
      "date       totalsales        \n",
      "2012-03-17 2384.480026245117 \n",
      "2012-03-15 2144.109969139099 \n",
      "2012-05-06 2093.20001411438  \n",
      "2012-03-16 2083.8500175476074\n",
      "2012-05-25 1990.0700035095215\n",
      "2012-08-22 1985.4600067138672\n",
      "2012-04-24 1855.8799743652344\n",
      "2012-08-24 1833.3300170898438\n",
      "2012-10-03 1832.3900451660156\n",
      "2012-08-02 1780.2900085449219\n",
      "2012-07-31 1778.9300079345703\n",
      "2012-09-22 1773.219985961914 \n",
      "2012-10-24 1731.8199768066406\n",
      "2012-06-09 1721.4900207519531\n",
      "2012-04-21 1716.75           \n",
      "2012-08-09 1649.9600219726562\n",
      "2012-02-10 1630.7099914550781\n",
      "2012-04-30 1609.6999969482422\n",
      "2012-10-08 1580.1900024414062\n",
      "2012-02-19 1568.6400184631348\n"
     ]
    }
   ],
   "source": [
    "sqlContext.sql(\"SELECT date, SUM(price) AS totalsales FROM df GROUP BY date ORDER BY totalsales DESC\").show()"
   ]
  },
  {
   "cell_type": "markdown",
   "metadata": {},
   "source": [
    "2012-03-17 recorded the highest total sales"
   ]
  },
  {
   "cell_type": "markdown",
   "metadata": {},
   "source": [
    "### What is the minimum value of a product under the Computers category?"
   ]
  },
  {
   "cell_type": "code",
   "execution_count": 271,
   "metadata": {},
   "outputs": [
    {
     "name": "stdout",
     "output_type": "stream",
     "text": [
      "c0  \n",
      "0.38\n"
     ]
    }
   ],
   "source": [
    "sqlContext.sql(\"SELECT MIN(price) FROM purchases WHERE category='Computers'\").show()"
   ]
  },
  {
   "cell_type": "markdown",
   "metadata": {},
   "source": [
    "The minimum value of a product under the Computers category is 0.38"
   ]
  },
  {
   "cell_type": "markdown",
   "metadata": {},
   "source": [
    "### How many distinct categories of products are there?"
   ]
  },
  {
   "cell_type": "code",
   "execution_count": 275,
   "metadata": {},
   "outputs": [
    {
     "name": "stdout",
     "output_type": "stream",
     "text": [
      "c0\n",
      "18\n"
     ]
    }
   ],
   "source": [
    "sqlContext.sql(\"SELECT COUNT(DISTINCT(category)) FROM purchases\").show()"
   ]
  },
  {
   "cell_type": "markdown",
   "metadata": {},
   "source": [
    "There are 18 distinct categories of products"
   ]
  },
  {
   "cell_type": "markdown",
   "metadata": {},
   "source": [
    "### Which store location had the lowest total sales?"
   ]
  },
  {
   "cell_type": "code",
   "execution_count": 276,
   "metadata": {},
   "outputs": [
    {
     "name": "stdout",
     "output_type": "stream",
     "text": [
      "location       totalsales        \n",
      "Plano          784.9599838256836 \n",
      "Denver         866.7500038146973 \n",
      "Spokane        873.0800170898438 \n",
      "Dallas         1021.6599979400635\n",
      "Fremont        1025.8199882507324\n",
      "San Bernardino 1033.759994506836 \n",
      "Oakland        1077.409999847412 \n",
      "Long Beach     1081.339988708496 \n",
      "Seattle        1209.0000190734863\n",
      "New Orleans    1226.5799991488457\n",
      "San Antonio    1275.5699920654297\n",
      "Oklahoma City  1310.6900177001953\n",
      "Scottsdale     1320.9500102996826\n",
      "Raleigh        1340.22998046875  \n",
      "Kansas City    1387.4499999210238\n",
      "Hialeah        1477.2599925994873\n",
      "Lexington      1496.4299850463867\n",
      "Fort Worth     1500.9999955892563\n",
      "Albuquerque    1509.1999926567078\n",
      "Lincoln        1526.919994354248 \n"
     ]
    }
   ],
   "source": [
    "sqlContext.sql(\"SELECT location, SUM(price) AS totalsales FROM purchases GROUP BY location ORDER BY totalsales ASC\").show()"
   ]
  },
  {
   "cell_type": "markdown",
   "metadata": {},
   "source": [
    "The store at Plano had the lowest total sales of 784.9599838256836 "
   ]
  },
  {
   "cell_type": "code",
   "execution_count": null,
   "metadata": {
    "collapsed": true
   },
   "outputs": [],
   "source": []
  }
 ],
 "metadata": {
  "kernelspec": {
   "display_name": "Python 3",
   "language": "python",
   "name": "python3"
  },
  "language_info": {
   "codemirror_mode": {
    "name": "ipython",
    "version": 3
   },
   "file_extension": ".py",
   "mimetype": "text/x-python",
   "name": "python",
   "nbconvert_exporter": "python",
   "pygments_lexer": "ipython3",
   "version": "3.6.4"
  }
 },
 "nbformat": 4,
 "nbformat_minor": 1
}
